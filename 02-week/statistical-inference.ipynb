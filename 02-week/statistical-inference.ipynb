{
 "cells": [
  {
   "cell_type": "markdown",
   "metadata": {},
   "source": [
    "# Statistical Inference and Confidence Intervals\n",
    "\n",
    "### Learning Objectives\n",
    "- Explain the relationships among parameter, sample, statistic, and population.\n",
    "- Define and describe sampling distribution.\n",
    "- Describe the Central Limit Theorem.\n",
    "- Generate and interpret a theoretical confidence interval.\n",
    "- Bonus: Generate and interpret a bootstrapped confidence interval.\n",
    "\n",
    "## Video Game Example\n",
    "Let's say you are playing a video game (like \"Halo\" or \"Call of Duty\") where the goal is to kill your opponent. Additionally, let's say your opponent is invisible.\n",
    "\n",
    "When deciding which weapon to use, you have two options:\n",
    "- a sniper rifle with one bullet in it, or\n",
    "- a grenade launcher with one grenade in it. \n",
    "\n",
    "<details><summary>Which weapon would you prefer?</summary>\n",
    "    \n",
    "- You're likely going to prefer the grenade launcher!\n",
    "- Why? Well, an explosion from a grenade will cover more area than one bullet fired from a rifle.\n",
    "\n",
    "![](./images/halo3.gif)\n",
    "</details>\n",
    "\n",
    "This is the same as the logic behind confidence intervals. By calculating a statistic on a sample, ***maybe*** we get lucky and our statistic is exactly equal to our parameter... however, we're probably not going to get this lucky.\n",
    "\n",
    "Let's see an example of that.\n",
    "\n",
    "## Polling Example\n",
    "\n",
    "You're running for office in a small town of 1,000 voters. Everyone in your town cares deeply about voting, so all 1,000 of them are going to vote.\n",
    "\n",
    "You'd like to ask \"All in all, do you think things in the nation are generally headed in the right direction?\""
   ]
  },
  {
   "cell_type": "code",
   "execution_count": 1,
   "metadata": {},
   "outputs": [],
   "source": [
    "# Import NumPy.\n",
    "import numpy as np\n",
    "import matplotlib.pyplot as plt\n",
    "# Set a seed so we get the same results.\n",
    "np.random.seed(42)"
   ]
  },
  {
   "cell_type": "code",
   "execution_count": 2,
   "metadata": {},
   "outputs": [],
   "source": [
    "# We are simulating a population of 1,000.\n",
    "# Each person has a 40% chance of saying\n",
    "# \"Yes, things are headed in the right direction.\"\n",
    "population = np.random.binomial(n = 1,\n",
    "                                p = 0.4,  #40 percent chance of being a '1'. EACH INDIV HAS A CHANCE\n",
    "                                size = 1000)"
   ]
  },
  {
   "cell_type": "code",
   "execution_count": 3,
   "metadata": {},
   "outputs": [
    {
     "data": {
      "text/plain": [
       "array([0, 1, 1, 0, 0, 0, 0, 1, 1, 1])"
      ]
     },
     "execution_count": 3,
     "metadata": {},
     "output_type": "execute_result"
    }
   ],
   "source": [
    "population[0:10] #0 are individulas who think the country is not headed in the rght direction"
   ]
  },
  {
   "cell_type": "code",
   "execution_count": 4,
   "metadata": {},
   "outputs": [
    {
     "name": "stdout",
     "output_type": "stream",
     "text": [
      "0.387\n"
     ]
    }
   ],
   "source": [
    "#what is the percentage of our pop'n that think the country is headed in the right direction\n",
    "\n",
    "print(sum(population)/1000)"
   ]
  },
  {
   "cell_type": "code",
   "execution_count": 5,
   "metadata": {},
   "outputs": [
    {
     "data": {
      "text/plain": [
       "0.387"
      ]
     },
     "execution_count": 5,
     "metadata": {},
     "output_type": "execute_result"
    }
   ],
   "source": [
    "population.mean()"
   ]
  },
  {
   "cell_type": "code",
   "execution_count": 6,
   "metadata": {},
   "outputs": [
    {
     "data": {
      "text/plain": [
       "0.387"
      ]
     },
     "execution_count": 6,
     "metadata": {},
     "output_type": "execute_result"
    }
   ],
   "source": [
    "# population mean \n",
    "# aka mu\n",
    "#Parameter\n",
    "#WE WILL NEVER KNOW WHAT THIS IS!!\n",
    "np.mean(population)"
   ]
  },
  {
   "cell_type": "markdown",
   "metadata": {},
   "source": [
    "Above, we simulated a population of people where 38.7% of them think the country is headed in the right direction. \n",
    "\n",
    "**But your campaign doesn't know this. Your campaign wants to learn what the true value of $p$ is!**\n",
    "\n",
    "The problem is, you don't have enough money and time to call all 1,000 of them. You can only call 50."
   ]
  },
  {
   "cell_type": "code",
   "execution_count": 7,
   "metadata": {},
   "outputs": [],
   "source": [
    "sample = np.random.choice(population,\n",
    "                          size = 50,\n",
    "                          replace = False) #sampling wo replacement i.e eat the blue m&m while estimating"
   ]
  },
  {
   "cell_type": "code",
   "execution_count": 8,
   "metadata": {},
   "outputs": [
    {
     "data": {
      "text/plain": [
       "array([0, 1, 1, 1, 0, 0, 1, 0, 0, 0, 1, 1, 0, 1, 1, 1, 0, 0, 1, 0, 0, 0,\n",
       "       0, 1, 0, 0, 0, 1, 0, 0, 0, 0, 0, 1, 0, 0, 0, 0, 0, 0, 1, 1, 0, 1,\n",
       "       0, 0, 0, 1, 1, 1])"
      ]
     },
     "execution_count": 8,
     "metadata": {},
     "output_type": "execute_result"
    }
   ],
   "source": [
    "sample"
   ]
  },
  {
   "cell_type": "code",
   "execution_count": 9,
   "metadata": {},
   "outputs": [
    {
     "data": {
      "text/plain": [
       "0.38"
      ]
     },
     "execution_count": 9,
     "metadata": {},
     "output_type": "execute_result"
    }
   ],
   "source": [
    "#what is the sample mean?\n",
    "#X_bar\n",
    "np.mean(sample) #or sample.mean()"
   ]
  },
  {
   "cell_type": "markdown",
   "metadata": {},
   "source": [
    "## The larger the sample size the smaller your uncertainty"
   ]
  },
  {
   "cell_type": "code",
   "execution_count": 10,
   "metadata": {},
   "outputs": [
    {
     "data": {
      "text/plain": [
       "0.44"
      ]
     },
     "execution_count": 10,
     "metadata": {},
     "output_type": "execute_result"
    }
   ],
   "source": [
    "sample_2 = np.random.choice(population,\n",
    "                            size = 50,\n",
    "                            replace = False)\n",
    "np.mean(sample_2)"
   ]
  },
  {
   "cell_type": "code",
   "execution_count": 11,
   "metadata": {},
   "outputs": [
    {
     "data": {
      "text/plain": [
       "0.38"
      ]
     },
     "execution_count": 11,
     "metadata": {},
     "output_type": "execute_result"
    }
   ],
   "source": [
    "sample_3 = np.random.choice(population,\n",
    "                            size = 50,\n",
    "                            replace = False)\n",
    "np.mean(sample_3)"
   ]
  },
  {
   "cell_type": "code",
   "execution_count": 12,
   "metadata": {},
   "outputs": [
    {
     "data": {
      "text/plain": [
       "0.38"
      ]
     },
     "execution_count": 12,
     "metadata": {},
     "output_type": "execute_result"
    }
   ],
   "source": [
    "sample_4 = np.random.choice(population,\n",
    "                            size = 50,\n",
    "                            replace = False)\n",
    "np.mean(sample_4)"
   ]
  },
  {
   "cell_type": "code",
   "execution_count": 13,
   "metadata": {},
   "outputs": [
    {
     "data": {
      "text/plain": [
       "0.32"
      ]
     },
     "execution_count": 13,
     "metadata": {},
     "output_type": "execute_result"
    }
   ],
   "source": [
    "sample_5 = np.random.choice(population,\n",
    "                            size = 50,\n",
    "                            replace = False)\n",
    "np.mean(sample_5)"
   ]
  },
  {
   "cell_type": "markdown",
   "metadata": {},
   "source": [
    "#### Even if we randomly sample, we aren't guaranteed to get a good sample!\n",
    "\n",
    "<details><summary>How do we get around this?</summary>\n",
    "    \n",
    "![](./images/halo.gif)\n",
    "### By switching to our grenade launcher.\n",
    "</details>\n",
    "\n",
    "When a poll is reported, you likely see something like this:\n",
    "\n",
    "![](./images/polling.png)\n",
    "\n",
    "In the upper-right corner, you can see \"$\\text{margin of error }\\pm\\text{ }3.1$\". \n",
    "\n",
    "#### What is a margin of error?\n",
    "This means that it's pretty likely that these poll results are within \"plus 3.1%\" or \"minus 3.1%\" of the real value.\n",
    "\n",
    "#### Why is there a margin of error?\n",
    "We recognize that one sample of 50 people can't definitively speak for all registered voters! If I had taken a different sample of 50 people, then my results might be pretty different. We hope not, but it's entirely possible.\n",
    "\n",
    "The margin of error is a way for us to describe our uncertainty in our statistic based on how much our statistic changes from one sample to another sample.\n",
    "- Realistically, we only pull one sample of size $n$ out of all possible samples of size $n$.\n",
    "- We only see one sample percentage out of all possible statistics.\n",
    "- We won't ever actually **see** the sample-to-sample variability!\n",
    "    - This makes sense, right? It doesn't make sense for me to take ten samples of size 50... instead, I would just take one sample of 500!\n",
    "    \n",
    "#### If we don't ever actually observe how much our statistic changes from one sample to another sample, then how can we get a margin of error?\n",
    "\n",
    "There are two ways to do this:\n",
    "- We can get theory to do it. (i.e. relying on statistics and probability theory)\n",
    "- We can estimate it empirically from our existing data."
   ]
  },
  {
   "cell_type": "markdown",
   "metadata": {},
   "source": [
    "### WHen the sample size (n) is small:\n",
    "\n",
    "1. Histogram widens\n",
    "2. Less normal (symetrical)\n",
    "3. Deviatin from mu\n",
    "\n",
    "### WHen the sample size (n) is large:\n",
    "\n",
    "1. Histogram (aka sample error) is less\n",
    "2. "
   ]
  },
  {
   "cell_type": "code",
   "execution_count": 29,
   "metadata": {},
   "outputs": [
    {
     "data": {
      "image/png": "[encoded data removed]",
      "text/plain": [
       "<Figure size 432x288 with 1 Axes>"
      ]
     },
     "metadata": {
      "needs_background": "light"
     },
     "output_type": "display_data"
    }
   ],
   "source": [
    "sample_means = []\n",
    "for i in range(10_000):\n",
    "    # Sample mean\n",
    "    sm = np.random.choice(population, size=50, replace=False).mean()\n",
    "    sample_means.append(sm)\n",
    "plt.hist(sample_means)\n",
    "plt.axvline(population.mean(), color='r')\n",
    "plt.xlim([0, 1]);"
   ]
  },
  {
   "cell_type": "markdown",
   "metadata": {},
   "source": [
    "## Confidence Interval Based on Theory\n",
    "\n",
    "By quantifying the margin of error, we can construct what is known as a **confidence interval**.\n",
    "\n",
    "A confidence interval is a set of likely values for the parameter of interest.\n",
    "\n",
    "--- \n",
    "\n",
    "<details><summary>If I could theoretically plot all possible sample percentages and how frequently I see each sample percentage... what is this?</summary>\n",
    "\n",
    "- This is the distribution of all sample percentages!\n",
    "- This is known as the **sampling distribution**.\n",
    "</details>\n",
    "\n",
    "Luckily, there is a theoretical result about this exact thing!\n",
    "\n",
    "### The Central Limit Theorem\n",
    "The Central Limit Theorem is the most important theorem in all of statistics. It states:\n",
    "\n",
    "As the size of our sample $n$ gets closer and closer to infinity, our sampling distribution (the distribution of all possible sample means) approaches a Normal distribution with mean $\\mu$ and standard deviation $\\frac{\\sigma}{\\sqrt{n}}$.\n",
    "\n",
    "**In English**: This means that if I take a sample of size $n$ and find the mean of that sample, then do it for all possible samples of size $n$, this distribution of sample means should be Normally distributed as long as $n$ is big enough.\n",
    "\n",
    "**Practically**: If I want to study the sample mean (or the sample percentage), I can use the Normal distribution to generate a confidence interval, as long as the size of our sample $n$ is large enough!"
   ]
  },
  {
   "cell_type": "markdown",
   "metadata": {},
   "source": [
    "### Confidence Interval Formula\n",
    "\n",
    "The formula for a confidence interval is:\n",
    "\n",
    "$$\n",
    "\\text{[sample statistic]} \\pm \\text{[multiplier]} \\times \\text{[standard deviation of sampling distribution]}\n",
    "$$\n",
    "\n",
    "- The **sample statistic** is the statistic of our sample!\n",
    "- The **standard deviation of the sampling distribution** quantifies that sample-to-sample variability for us. (This is commonly called the [standard error](https://stattrek.com/estimation/standard-error.aspx).)\n",
    "- The **multiplier** is a number drawn from the Normal distribution that makes sure our confidence interval is appropriately wide given how confident we want to be in our result.\n",
    "    - The **margin of error** is the multiplier times the standard deviation of the sampling distribution.\n",
    "\n",
    "*Extra:* To learn about the derivation of the confidence interval for a given confidence level, [head here](http://dsearls.org/courses/M120Concepts/ClassNotes/Statistics/530G_Derivation.htm).\n",
    "\n",
    "--- \n",
    "\n",
    "Example: I want to find the 95% confidence interval for the percentage of people who think the nation is on the right track.\n",
    "\n",
    "The formula is:\n",
    "\n",
    "$$\n",
    "\\begin{eqnarray*}\n",
    "\\text{[sample statistic] } &\\pm& \\text{[multiplier] } \\times \\text{[standard deviation of sampling distribution]} \\\\\n",
    "\\bar{x} &\\pm& z^* \\times \\frac{\\sigma}{\\sqrt{n}} \\\\\n",
    "\\Rightarrow \\bar{x} &\\pm& 1.96 \\times \\frac{\\sigma}{\\sqrt{n}}\n",
    "\\end{eqnarray*}\n",
    "$$"
   ]
  },
  {
   "cell_type": "code",
   "execution_count": 30,
   "metadata": {},
   "outputs": [
    {
     "data": {
      "text/plain": [
       "array([0, 1, 1, 1, 0, 0, 1, 0, 0, 0, 1, 1, 0, 1, 1, 1, 0, 0, 1, 0, 0, 0,\n",
       "       0, 1, 0, 0, 0, 1, 0, 0, 0, 0, 0, 1, 0, 0, 0, 0, 0, 0, 1, 1, 0, 1,\n",
       "       0, 0, 0, 1, 1, 1])"
      ]
     },
     "execution_count": 30,
     "metadata": {},
     "output_type": "execute_result"
    }
   ],
   "source": [
    "sample"
   ]
  },
  {
   "cell_type": "code",
   "execution_count": 32,
   "metadata": {},
   "outputs": [],
   "source": [
    "# x_bar\n",
    "sample_mean = np.mean(sample)\n",
    "sigma = np.std(sample)  #standard deviation\n",
    "n = len(sample)   # sample size"
   ]
  },
  {
   "cell_type": "code",
   "execution_count": 34,
   "metadata": {},
   "outputs": [
    {
     "data": {
      "text/plain": [
       "0.13454225804556721"
      ]
     },
     "execution_count": 34,
     "metadata": {},
     "output_type": "execute_result"
    }
   ],
   "source": [
    "margin_of_error = 1.96 * sigma / np.sqrt(n)\n",
    "margin_of_error"
   ]
  },
  {
   "cell_type": "code",
   "execution_count": 16,
   "metadata": {},
   "outputs": [
    {
     "data": {
      "text/plain": [
       "0.2454577419544328"
      ]
     },
     "execution_count": 16,
     "metadata": {},
     "output_type": "execute_result"
    }
   ],
   "source": [
    "sample_mean - 1.96 * sigma / (n ** 0.5) #lower end of confidence interval"
   ]
  },
  {
   "cell_type": "code",
   "execution_count": 17,
   "metadata": {},
   "outputs": [
    {
     "data": {
      "text/plain": [
       "0.2455"
      ]
     },
     "execution_count": 17,
     "metadata": {},
     "output_type": "execute_result"
    }
   ],
   "source": [
    "round(sample_mean - 1.96 * sigma / (n ** 0.5), 4) #lower end of confidence interval"
   ]
  },
  {
   "cell_type": "code",
   "execution_count": 18,
   "metadata": {},
   "outputs": [
    {
     "data": {
      "text/plain": [
       "0.5145"
      ]
     },
     "execution_count": 18,
     "metadata": {},
     "output_type": "execute_result"
    }
   ],
   "source": [
    "round(sample_mean + 1.96 * sigma / (n ** 0.5), 4) #upper end of confidence interval"
   ]
  },
  {
   "cell_type": "markdown",
   "metadata": {},
   "source": [
    "Our 95% confidence interval for the percentage of people who think our country is on the right track is **(24.55%, 51.45%)**.\n",
    "\n",
    "#### Interpretation (*this will come up in interviews*)\n",
    "\n",
    "We interpret the 95% confidence interval interval by saying **\"I am 95% confident that the true population percentage of people who think our country is on the right track is 24.55% to 51.45%.\"**\n",
    "- Generally, we would say:\n",
    "    - \"I am {confidence level}% confident \n",
    "    - that the true population {parameter} \n",
    "    - is between {lower confidence bound} and {upper confidence bound}.\"\n",
    "\n",
    "---\n",
    "\n",
    "Write a function called `conf_int()` to take in an array of data and return a 95% confidence interval. Run your function on `sample_2` and interpret your results."
   ]
  },
  {
   "cell_type": "code",
   "execution_count": 37,
   "metadata": {},
   "outputs": [],
   "source": [
    "larger_sample = np.random.choice(population,size=400, replace=False)"
   ]
  },
  {
   "cell_type": "code",
   "execution_count": 41,
   "metadata": {},
   "outputs": [],
   "source": [
    "def conf_int(the_sample):\n",
    "    sample_mean = np.mean(the_sample)\n",
    "    sigma = np.std(the_sample)\n",
    "    n = len(the_sample)\n",
    "    return (sample_mean - 1.96 * sigma / np.sqrt(n), round(sample_mean) + 1.96 * sigma / (n ** 0.5), 4)"
   ]
  },
  {
   "cell_type": "code",
   "execution_count": 42,
   "metadata": {},
   "outputs": [
    {
     "data": {
      "text/plain": [
       "(0.30240855840569153, 0.13759144159430847, 4)"
      ]
     },
     "execution_count": 42,
     "metadata": {},
     "output_type": "execute_result"
    }
   ],
   "source": [
    "conf_int(sample_2)"
   ]
  },
  {
   "cell_type": "code",
   "execution_count": 43,
   "metadata": {},
   "outputs": [
    {
     "data": {
      "text/plain": [
       "(0.347092632090669, 0.047907367909331026, 4)"
      ]
     },
     "execution_count": 43,
     "metadata": {},
     "output_type": "execute_result"
    }
   ],
   "source": [
    "conf_int(larger_sample)"
   ]
  },
  {
   "cell_type": "markdown",
   "metadata": {},
   "source": [
    "<details><summary>Interpretation:</summary>\"I am 95% confident that the true population percentage of people who believe our country is on the right track is between 30.24% and 57.76 percent.\"</details>\n",
    "\n",
    "---\n",
    "\n",
    "Note: For a confidence interval, our multiplier is 1.96. The number 1.96 comes from a standard Normal distribution.\n",
    "- The area under the standard Normal distribution between -1.96 and +1.96 is 95%.\n",
    "- For 90% confidence, use 1.645.\n",
    "- For 99% confidence, use 2.576.\n",
    "\n",
    "#### This seems straightforward enough... why don't we always just \"use theory?\"\n",
    "- The \"standard deviation of the statistic\" formula is easy when we're generating confidence intervals for one mean or one percentage.\n",
    "- That formula gets more complicated if we want to calculate a confidence interval for a correlation coefficient, for the difference between two means, or for something else.\n",
    "- Also, the Central Limit Theorem above describes how sample means work. Relying on the Normal distribution is tough when our sample size $n$ is small (below 30) or when we're calculating something other than basic means and percentages."
   ]
  },
  {
   "cell_type": "markdown",
   "metadata": {},
   "source": [
    "# To sum up:\n",
    "- Our goal is usually to learn about a population.\n",
    "- Oftentimes, money, time, energy, and other constraints prevent us from measuring the entire population directly.\n",
    "- We take a sample from this population and calculate a statistic on our sample.\n",
    "- We want to use this sample statistic to understand our population parameter!\n",
    "- By just calculating a statistic, we're effectively using our sniper rifle. Instead, we want a grenade launcher!\n",
    "- The statistical equivalent of a grenade launcher is a **confidence interval**. A confidence interval is a set of likely values for the parameter of interest.\n",
    "- In order to construct our confidence interval, we use our sample statistic and attach a margin of error to it. We can then quantify how confident we are that the true population parameter is inside the interval.\n",
    "- The formula for any confidence interval is given by $\\text{[sample statistic] } \\pm \\text{[multiplier] } \\times \\text{[standard deviation of sampling distribution]}$.\n",
    "- The formula for a 95% confidence interval for sample means or proportions is $\\bar{x} \\pm 1.96\\frac{\\sigma}{\\sqrt{n}}$.\n",
    "- I would interpret a 95% confidence interval $(a,b)$ as follows:\n",
    "    - \"I am 95% confident that the true population parameter is in between $a$ and $b$.\""
   ]
  },
  {
   "cell_type": "markdown",
   "metadata": {},
   "source": [
    "## BONUS: Margin of Error Based on our Data\n",
    "--- \n",
    "\n",
    "In the last section, we relied on the Central Limit Theorem to tell us what the sampling distribution would look like under certain conditions.\n",
    "\n",
    "In this section, we're just going to directly estimate a confidence interval by simulating our sampling distribution. This involves a process called **bootstrapping**.\n",
    "\n",
    "### Bootstrapping\n",
    "The idea behind bootstrapping is very simple.\n",
    "\n",
    "We can get the true sampling distribution if we got all possible samples of size $n$ from our population... but this isn't realistic.\n",
    "\n",
    "We can **simulate** the true sampling distribution by taking lots of samples of size $n$ from our **sample**.\n",
    "\n",
    "1. Take a sample of size $n$ from the population.\n",
    "2. Pretend like this sample of size $n$ is your actual population.\n",
    "3. Take many samples (say $k$) of size $n$ from your sample. You must take these samples with replacement, or you'll just be making copies of your sample!\n",
    "    - You have now generated $k$ **bootstrapped *samples***.\n",
    "4. On each bootstrapped sample, calculate the statistic of interest.\n",
    "    - You have now generated $k$ **bootstrapped *statistics***.\n",
    "\n",
    "If $k$ is large enough, then your simulated sampling distribution should look somewhat like the true theoretical sampling distribution!\n",
    "\n",
    "Example: Find a 95% bootstrapped confidence interval for the proportion of people who believe the country is headed in the right direction."
   ]
  },
  {
   "cell_type": "code",
   "execution_count": 21,
   "metadata": {},
   "outputs": [
    {
     "data": {
      "text/plain": [
       "array([0, 1, 1, 1, 0, 0, 1, 0, 0, 0, 1, 1, 0, 1, 1, 1, 0, 0, 1, 0, 0, 0,\n",
       "       0, 1, 0, 0, 0, 1, 0, 0, 0, 0, 0, 1, 0, 0, 0, 0, 0, 0, 1, 1, 0, 1,\n",
       "       0, 0, 0, 1, 1, 1])"
      ]
     },
     "execution_count": 21,
     "metadata": {},
     "output_type": "execute_result"
    }
   ],
   "source": [
    "sample"
   ]
  },
  {
   "cell_type": "code",
   "execution_count": 22,
   "metadata": {},
   "outputs": [],
   "source": [
    "# Instantiate an empty list of bootstrapped statistics.\n",
    "bs_stats = []\n",
    "\n",
    "# We'll do k = 1000 bootstrapped samples.\n",
    "for i in range(1000):\n",
    "    \n",
    "    # Create a sample of size n = 50 *with replacement*.\n",
    "    bootstrapped_sample = np.random.choice(sample, size = 50, replace = True)\n",
    "    \n",
    "    # Calculate the sample statistic.\n",
    "    bootstrapped_stat = np.mean(bootstrapped_sample)\n",
    "    \n",
    "    # Add the sample statistic to the list.\n",
    "    bs_stats.append(bootstrapped_stat)"
   ]
  },
  {
   "cell_type": "markdown",
   "metadata": {},
   "source": [
    "Let's visualize the distribution of bootstrapped statistics and compare it to the theoretical sampling distribution."
   ]
  },
  {
   "cell_type": "code",
   "execution_count": 23,
   "metadata": {},
   "outputs": [],
   "source": [
    "import matplotlib.pyplot as plt\n",
    "import scipy.stats as stats\n",
    "\n",
    "%matplotlib inline"
   ]
  },
  {
   "cell_type": "code",
   "execution_count": 24,
   "metadata": {},
   "outputs": [
    {
     "data": {
      "image/png": "[encoded data removed]",
      "text/plain": [
       "<Figure size 432x288 with 1 Axes>"
      ]
     },
     "metadata": {
      "needs_background": "light"
     },
     "output_type": "display_data"
    }
   ],
   "source": [
    "# Generate 200 equally-spaced values between 0 and 1.\n",
    "p = np.linspace(0,1,200)\n",
    "\n",
    "# Plot the Normal pdf with the mean and standard deviation of our population.\n",
    "plt.plot(p,stats.norm.pdf(p, loc = np.mean(population), scale = np.std(population)/(50 ** 0.5)), lw = 4)\n",
    "\n",
    "# Plot a histogram of our bootstrapped statistics.\n",
    "plt.hist(bs_stats, bins = 10, density = True);"
   ]
  },
  {
   "cell_type": "markdown",
   "metadata": {},
   "source": [
    "Visually, the theoretical distribution looks almost identical to the bootstrapped distribution. Let's compare how different the 95% confidence intervals are."
   ]
  },
  {
   "cell_type": "code",
   "execution_count": 25,
   "metadata": {},
   "outputs": [
    {
     "data": {
      "text/plain": [
       "0.25950000000000006"
      ]
     },
     "execution_count": 25,
     "metadata": {},
     "output_type": "execute_result"
    }
   ],
   "source": [
    "# Pull the 2.5th percentile from our bootstrapped statistics.\n",
    "np.percentile(bs_stats, 2.5)"
   ]
  },
  {
   "cell_type": "code",
   "execution_count": 26,
   "metadata": {},
   "outputs": [
    {
     "data": {
      "text/plain": [
       "0.52"
      ]
     },
     "execution_count": 26,
     "metadata": {},
     "output_type": "execute_result"
    }
   ],
   "source": [
    "# Pull the 97.5th percentile from our bootstrapped statistics.\n",
    "np.percentile(bs_stats, 97.5)"
   ]
  },
  {
   "cell_type": "markdown",
   "metadata": {},
   "source": [
    "The bootstrapped 95% confidence interval is (0.2595, 0.52).\n",
    "\n",
    "<details><summary>Interpretation (we interpret it in the same way!)</summary>\n",
    "We are 95% confident that the true population percentage of people who believe the country is headed in the right direction is 25.95% to 52%.\n",
    "</details>"
   ]
  },
  {
   "cell_type": "code",
   "execution_count": 27,
   "metadata": {},
   "outputs": [
    {
     "data": {
      "text/plain": [
       "(0.2455, 0.5145)"
      ]
     },
     "execution_count": 27,
     "metadata": {},
     "output_type": "execute_result"
    }
   ],
   "source": [
    "# Theoretical Interval\n",
    "conf_int(sample)"
   ]
  },
  {
   "cell_type": "markdown",
   "metadata": {},
   "source": [
    "The bootstrapped 95% confidence interval is (0.2455, 0.5145).\n",
    "\n",
    "<details><summary>Interpretation</summary>\n",
    "We are 95% confident that the true population percentage of people who believe the country is headed in the right direction is 24.55% to 51.45%.\n",
    "</details>"
   ]
  },
  {
   "cell_type": "markdown",
   "metadata": {},
   "source": [
    "<details><summary> Extra Practice: From the polling example with the 3.1% margin of error above, what are the population, sample, statistics, and parameters? </summary>\n",
    "    \n",
    "- Our **population** is all registered voters.\n",
    "- Our **sample** is the 1,000 voters who were polled for this situation. \n",
    "- Our **statistic** is: \n",
    "    - the sample percentage of \"right direction\" responses, $\\hat{p}_{right} = 0.38$,\n",
    "- Our **parameter** is:\n",
    "    - the true population percentage of \"right direction\" responses, $p_{right}$.\n",
    "</details>"
   ]
  }
 ],
 "metadata": {
  "kernelspec": {
   "display_name": "Python 3",
   "language": "python",
   "name": "python3"
  },
  "language_info": {
   "codemirror_mode": {
    "name": "ipython",
    "version": 3
   },
   "file_extension": ".py",
   "mimetype": "text/x-python",
   "name": "python",
   "nbconvert_exporter": "python",
   "pygments_lexer": "ipython3",
   "version": "3.7.1"
  }
 },
 "nbformat": 4,
 "nbformat_minor": 2
}
