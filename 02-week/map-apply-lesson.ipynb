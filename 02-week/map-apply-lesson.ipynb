{
 "cells": [
  {
   "cell_type": "markdown",
   "metadata": {},
   "source": [
    "# Intro to Map & ApplyMap\n",
    "\n",
    "**Author:** _Cameron Bronstein | DSI-SF_"
   ]
  },
  {
   "cell_type": "markdown",
   "metadata": {},
   "source": [
    "Want to run a function on every value in a dataframe column? Tired of iterating through the values in a series and appending to a new list? **Try pandas maps!**\n",
    "- works with named functions, lambda functions, dictionaries galore!\n",
    "\n",
    "**`.map`**\n",
    "- works on Pandas Series (one column at a time)\n",
    "\n",
    "**`.applymap`** \n",
    "- can work on multiple columns (dataframe) simultaneously "
   ]
  },
  {
   "cell_type": "code",
   "execution_count": 1,
   "metadata": {},
   "outputs": [],
   "source": [
    "import pandas as pd\n",
    "import numpy as np"
   ]
  },
  {
   "cell_type": "markdown",
   "metadata": {},
   "source": [
    "Import the data"
   ]
  },
  {
   "cell_type": "code",
   "execution_count": 2,
   "metadata": {},
   "outputs": [],
   "source": [
    "df = pd.read_csv('./data/pokedex_basic_corrupted.csv')"
   ]
  },
  {
   "cell_type": "markdown",
   "metadata": {},
   "source": [
    "What's wrong here?"
   ]
  },
  {
   "cell_type": "code",
   "execution_count": 3,
   "metadata": {
    "scrolled": true
   },
   "outputs": [
    {
     "data": {
      "text/html": [
       "<div>\n",
       "<style scoped>\n",
       "    .dataframe tbody tr th:only-of-type {\n",
       "        vertical-align: middle;\n",
       "    }\n",
       "\n",
       "    .dataframe tbody tr th {\n",
       "        vertical-align: top;\n",
       "    }\n",
       "\n",
       "    .dataframe thead th {\n",
       "        text-align: right;\n",
       "    }\n",
       "</style>\n",
       "<table border=\"1\" class=\"dataframe\">\n",
       "  <thead>\n",
       "    <tr style=\"text-align: right;\">\n",
       "      <th></th>\n",
       "      <th>PokedexNumber</th>\n",
       "      <th>Name</th>\n",
       "      <th>Type</th>\n",
       "      <th>Total</th>\n",
       "      <th>HP</th>\n",
       "      <th>Attack</th>\n",
       "      <th>Defense</th>\n",
       "      <th>SpecialAttack</th>\n",
       "      <th>SpecialDefense</th>\n",
       "      <th>Speed</th>\n",
       "    </tr>\n",
       "  </thead>\n",
       "  <tbody>\n",
       "    <tr>\n",
       "      <th>0</th>\n",
       "      <td>1</td>\n",
       "      <td>Bulbasaur</td>\n",
       "      <td>GrassPoison</td>\n",
       "      <td>318 points!</td>\n",
       "      <td>45 points!</td>\n",
       "      <td>49 points!</td>\n",
       "      <td>49 points!</td>\n",
       "      <td>65 points!</td>\n",
       "      <td>65 points!</td>\n",
       "      <td>45 points!</td>\n",
       "    </tr>\n",
       "    <tr>\n",
       "      <th>1</th>\n",
       "      <td>2</td>\n",
       "      <td>Ivysaur</td>\n",
       "      <td>GrassPoison</td>\n",
       "      <td>405 points!</td>\n",
       "      <td>60 points!</td>\n",
       "      <td>62 points!</td>\n",
       "      <td>63 points!</td>\n",
       "      <td>80 points!</td>\n",
       "      <td>80 points!</td>\n",
       "      <td>60 points!</td>\n",
       "    </tr>\n",
       "    <tr>\n",
       "      <th>2</th>\n",
       "      <td>3</td>\n",
       "      <td>Venusaur</td>\n",
       "      <td>GrassPoison</td>\n",
       "      <td>525 points!</td>\n",
       "      <td>80 points!</td>\n",
       "      <td>82 points!</td>\n",
       "      <td>83 points!</td>\n",
       "      <td>100 points!</td>\n",
       "      <td>100 points!</td>\n",
       "      <td>80 points!</td>\n",
       "    </tr>\n",
       "    <tr>\n",
       "      <th>3</th>\n",
       "      <td>3</td>\n",
       "      <td>VenusaurMega Venusaur</td>\n",
       "      <td>GrassPoison</td>\n",
       "      <td>625 points!</td>\n",
       "      <td>80 points!</td>\n",
       "      <td>100 points!</td>\n",
       "      <td>123 points!</td>\n",
       "      <td>122 points!</td>\n",
       "      <td>120 points!</td>\n",
       "      <td>80 points!</td>\n",
       "    </tr>\n",
       "    <tr>\n",
       "      <th>4</th>\n",
       "      <td>4</td>\n",
       "      <td>Charmander</td>\n",
       "      <td>Fire</td>\n",
       "      <td>309 points!</td>\n",
       "      <td>39 points!</td>\n",
       "      <td>52 points!</td>\n",
       "      <td>43 points!</td>\n",
       "      <td>60 points!</td>\n",
       "      <td>50 points!</td>\n",
       "      <td>65 points!</td>\n",
       "    </tr>\n",
       "  </tbody>\n",
       "</table>\n",
       "</div>"
      ],
      "text/plain": [
       "   PokedexNumber                   Name         Type        Total          HP  \\\n",
       "0              1              Bulbasaur  GrassPoison  318 points!  45 points!   \n",
       "1              2                Ivysaur  GrassPoison  405 points!  60 points!   \n",
       "2              3               Venusaur  GrassPoison  525 points!  80 points!   \n",
       "3              3  VenusaurMega Venusaur  GrassPoison  625 points!  80 points!   \n",
       "4              4             Charmander         Fire  309 points!  39 points!   \n",
       "\n",
       "        Attack      Defense SpecialAttack SpecialDefense       Speed  \n",
       "0   49 points!   49 points!    65 points!     65 points!  45 points!  \n",
       "1   62 points!   63 points!    80 points!     80 points!  60 points!  \n",
       "2   82 points!   83 points!   100 points!    100 points!  80 points!  \n",
       "3  100 points!  123 points!   122 points!    120 points!  80 points!  \n",
       "4   52 points!   43 points!    60 points!     50 points!  65 points!  "
      ]
     },
     "execution_count": 3,
     "metadata": {},
     "output_type": "execute_result"
    }
   ],
   "source": [
    "df.head()"
   ]
  },
  {
   "cell_type": "code",
   "execution_count": 4,
   "metadata": {},
   "outputs": [
    {
     "data": {
      "text/plain": [
       "PokedexNumber      int64\n",
       "Name              object\n",
       "Type              object\n",
       "Total             object\n",
       "HP                object\n",
       "Attack            object\n",
       "Defense           object\n",
       "SpecialAttack     object\n",
       "SpecialDefense    object\n",
       "Speed             object\n",
       "dtype: object"
      ]
     },
     "execution_count": 4,
     "metadata": {},
     "output_type": "execute_result"
    }
   ],
   "source": [
    "df.dtypes"
   ]
  },
  {
   "cell_type": "markdown",
   "metadata": {},
   "source": [
    "### Steps for mapping\n",
    "\n",
    "- find an appropriate test case (maybe the first value in the series)\n",
    "- write a named function or a lambda function that will transform the data to the appropriate output\n",
    "    - confirm that it works!\n",
    "- Map!\n"
   ]
  },
  {
   "cell_type": "markdown",
   "metadata": {},
   "source": [
    "#### Fix the `Total` column. \n",
    "- Remove the `\" points!\"`\n",
    "- convert to integer"
   ]
  },
  {
   "cell_type": "code",
   "execution_count": 5,
   "metadata": {},
   "outputs": [
    {
     "name": "stdout",
     "output_type": "stream",
     "text": [
      "318\n",
      "<class 'int'>\n"
     ]
    }
   ],
   "source": [
    "test_case = df.loc[0, 'Total']\n",
    "\n",
    "def fix_data(x):\n",
    "    return int(x.replace(\" points!\", \"\"))\n",
    "\n",
    "print(fix_data(test_case))\n",
    "print(type(fix_data(test_case)))"
   ]
  },
  {
   "cell_type": "markdown",
   "metadata": {},
   "source": [
    "- Map the function to the entire series!\n",
    "- (remember to overwrite!)"
   ]
  },
  {
   "cell_type": "code",
   "execution_count": 6,
   "metadata": {},
   "outputs": [],
   "source": [
    "df.loc[:, 'Total'] = df.loc[:, 'Total'].map(fix_data)"
   ]
  },
  {
   "cell_type": "code",
   "execution_count": 7,
   "metadata": {},
   "outputs": [
    {
     "data": {
      "text/html": [
       "<div>\n",
       "<style scoped>\n",
       "    .dataframe tbody tr th:only-of-type {\n",
       "        vertical-align: middle;\n",
       "    }\n",
       "\n",
       "    .dataframe tbody tr th {\n",
       "        vertical-align: top;\n",
       "    }\n",
       "\n",
       "    .dataframe thead th {\n",
       "        text-align: right;\n",
       "    }\n",
       "</style>\n",
       "<table border=\"1\" class=\"dataframe\">\n",
       "  <thead>\n",
       "    <tr style=\"text-align: right;\">\n",
       "      <th></th>\n",
       "      <th>PokedexNumber</th>\n",
       "      <th>Name</th>\n",
       "      <th>Type</th>\n",
       "      <th>Total</th>\n",
       "      <th>HP</th>\n",
       "      <th>Attack</th>\n",
       "      <th>Defense</th>\n",
       "      <th>SpecialAttack</th>\n",
       "      <th>SpecialDefense</th>\n",
       "      <th>Speed</th>\n",
       "    </tr>\n",
       "  </thead>\n",
       "  <tbody>\n",
       "    <tr>\n",
       "      <th>0</th>\n",
       "      <td>1</td>\n",
       "      <td>Bulbasaur</td>\n",
       "      <td>GrassPoison</td>\n",
       "      <td>318</td>\n",
       "      <td>45 points!</td>\n",
       "      <td>49 points!</td>\n",
       "      <td>49 points!</td>\n",
       "      <td>65 points!</td>\n",
       "      <td>65 points!</td>\n",
       "      <td>45 points!</td>\n",
       "    </tr>\n",
       "    <tr>\n",
       "      <th>1</th>\n",
       "      <td>2</td>\n",
       "      <td>Ivysaur</td>\n",
       "      <td>GrassPoison</td>\n",
       "      <td>405</td>\n",
       "      <td>60 points!</td>\n",
       "      <td>62 points!</td>\n",
       "      <td>63 points!</td>\n",
       "      <td>80 points!</td>\n",
       "      <td>80 points!</td>\n",
       "      <td>60 points!</td>\n",
       "    </tr>\n",
       "    <tr>\n",
       "      <th>2</th>\n",
       "      <td>3</td>\n",
       "      <td>Venusaur</td>\n",
       "      <td>GrassPoison</td>\n",
       "      <td>525</td>\n",
       "      <td>80 points!</td>\n",
       "      <td>82 points!</td>\n",
       "      <td>83 points!</td>\n",
       "      <td>100 points!</td>\n",
       "      <td>100 points!</td>\n",
       "      <td>80 points!</td>\n",
       "    </tr>\n",
       "    <tr>\n",
       "      <th>3</th>\n",
       "      <td>3</td>\n",
       "      <td>VenusaurMega Venusaur</td>\n",
       "      <td>GrassPoison</td>\n",
       "      <td>625</td>\n",
       "      <td>80 points!</td>\n",
       "      <td>100 points!</td>\n",
       "      <td>123 points!</td>\n",
       "      <td>122 points!</td>\n",
       "      <td>120 points!</td>\n",
       "      <td>80 points!</td>\n",
       "    </tr>\n",
       "    <tr>\n",
       "      <th>4</th>\n",
       "      <td>4</td>\n",
       "      <td>Charmander</td>\n",
       "      <td>Fire</td>\n",
       "      <td>309</td>\n",
       "      <td>39 points!</td>\n",
       "      <td>52 points!</td>\n",
       "      <td>43 points!</td>\n",
       "      <td>60 points!</td>\n",
       "      <td>50 points!</td>\n",
       "      <td>65 points!</td>\n",
       "    </tr>\n",
       "  </tbody>\n",
       "</table>\n",
       "</div>"
      ],
      "text/plain": [
       "   PokedexNumber                   Name         Type  Total          HP  \\\n",
       "0              1              Bulbasaur  GrassPoison    318  45 points!   \n",
       "1              2                Ivysaur  GrassPoison    405  60 points!   \n",
       "2              3               Venusaur  GrassPoison    525  80 points!   \n",
       "3              3  VenusaurMega Venusaur  GrassPoison    625  80 points!   \n",
       "4              4             Charmander         Fire    309  39 points!   \n",
       "\n",
       "        Attack      Defense SpecialAttack SpecialDefense       Speed  \n",
       "0   49 points!   49 points!    65 points!     65 points!  45 points!  \n",
       "1   62 points!   63 points!    80 points!     80 points!  60 points!  \n",
       "2   82 points!   83 points!   100 points!    100 points!  80 points!  \n",
       "3  100 points!  123 points!   122 points!    120 points!  80 points!  \n",
       "4   52 points!   43 points!    60 points!     50 points!  65 points!  "
      ]
     },
     "execution_count": 7,
     "metadata": {},
     "output_type": "execute_result"
    }
   ],
   "source": [
    "df.head()"
   ]
  },
  {
   "cell_type": "markdown",
   "metadata": {},
   "source": [
    "Confirm by checking the datatypes of the columns!"
   ]
  },
  {
   "cell_type": "code",
   "execution_count": 8,
   "metadata": {
    "scrolled": true
   },
   "outputs": [
    {
     "data": {
      "text/plain": [
       "PokedexNumber      int64\n",
       "Name              object\n",
       "Type              object\n",
       "Total              int64\n",
       "HP                object\n",
       "Attack            object\n",
       "Defense           object\n",
       "SpecialAttack     object\n",
       "SpecialDefense    object\n",
       "Speed             object\n",
       "dtype: object"
      ]
     },
     "execution_count": 8,
     "metadata": {},
     "output_type": "execute_result"
    }
   ],
   "source": [
    "df.dtypes"
   ]
  },
  {
   "cell_type": "markdown",
   "metadata": {},
   "source": [
    "**We can also map with lambda function!**\n",
    "- Let's try this with the `HP` column."
   ]
  },
  {
   "cell_type": "code",
   "execution_count": 9,
   "metadata": {
    "scrolled": true
   },
   "outputs": [
    {
     "data": {
      "text/plain": [
       "0    45\n",
       "1    60\n",
       "2    80\n",
       "3    80\n",
       "4    39\n",
       "Name: HP, dtype: int64"
      ]
     },
     "execution_count": 9,
     "metadata": {},
     "output_type": "execute_result"
    }
   ],
   "source": [
    "df.loc[:, 'HP'].map(lambda x: int(x.replace(\" points!\", \"\"))).head()"
   ]
  },
  {
   "cell_type": "code",
   "execution_count": 10,
   "metadata": {},
   "outputs": [],
   "source": [
    "# save inplace\n",
    "df.loc[:, 'HP'] = df.loc[:, 'HP'].map(lambda x: int(x.replace(\" points!\", \"\")))"
   ]
  },
  {
   "cell_type": "code",
   "execution_count": 11,
   "metadata": {},
   "outputs": [
    {
     "data": {
      "text/plain": [
       "PokedexNumber      int64\n",
       "Name              object\n",
       "Type              object\n",
       "Total              int64\n",
       "HP                 int64\n",
       "Attack            object\n",
       "Defense           object\n",
       "SpecialAttack     object\n",
       "SpecialDefense    object\n",
       "Speed             object\n",
       "dtype: object"
      ]
     },
     "execution_count": 11,
     "metadata": {},
     "output_type": "execute_result"
    }
   ],
   "source": [
    "df.dtypes"
   ]
  },
  {
   "cell_type": "markdown",
   "metadata": {},
   "source": [
    "#### We can use `.applymap()`  to do this on multiple columns at once!"
   ]
  },
  {
   "cell_type": "code",
   "execution_count": 12,
   "metadata": {},
   "outputs": [
    {
     "data": {
      "text/html": [
       "<div>\n",
       "<style scoped>\n",
       "    .dataframe tbody tr th:only-of-type {\n",
       "        vertical-align: middle;\n",
       "    }\n",
       "\n",
       "    .dataframe tbody tr th {\n",
       "        vertical-align: top;\n",
       "    }\n",
       "\n",
       "    .dataframe thead th {\n",
       "        text-align: right;\n",
       "    }\n",
       "</style>\n",
       "<table border=\"1\" class=\"dataframe\">\n",
       "  <thead>\n",
       "    <tr style=\"text-align: right;\">\n",
       "      <th></th>\n",
       "      <th>Attack</th>\n",
       "      <th>Defense</th>\n",
       "      <th>SpecialAttack</th>\n",
       "      <th>SpecialDefense</th>\n",
       "      <th>Speed</th>\n",
       "    </tr>\n",
       "  </thead>\n",
       "  <tbody>\n",
       "    <tr>\n",
       "      <th>0</th>\n",
       "      <td>49 points!</td>\n",
       "      <td>49 points!</td>\n",
       "      <td>65 points!</td>\n",
       "      <td>65 points!</td>\n",
       "      <td>45 points!</td>\n",
       "    </tr>\n",
       "    <tr>\n",
       "      <th>1</th>\n",
       "      <td>62 points!</td>\n",
       "      <td>63 points!</td>\n",
       "      <td>80 points!</td>\n",
       "      <td>80 points!</td>\n",
       "      <td>60 points!</td>\n",
       "    </tr>\n",
       "    <tr>\n",
       "      <th>2</th>\n",
       "      <td>82 points!</td>\n",
       "      <td>83 points!</td>\n",
       "      <td>100 points!</td>\n",
       "      <td>100 points!</td>\n",
       "      <td>80 points!</td>\n",
       "    </tr>\n",
       "    <tr>\n",
       "      <th>3</th>\n",
       "      <td>100 points!</td>\n",
       "      <td>123 points!</td>\n",
       "      <td>122 points!</td>\n",
       "      <td>120 points!</td>\n",
       "      <td>80 points!</td>\n",
       "    </tr>\n",
       "    <tr>\n",
       "      <th>4</th>\n",
       "      <td>52 points!</td>\n",
       "      <td>43 points!</td>\n",
       "      <td>60 points!</td>\n",
       "      <td>50 points!</td>\n",
       "      <td>65 points!</td>\n",
       "    </tr>\n",
       "  </tbody>\n",
       "</table>\n",
       "</div>"
      ],
      "text/plain": [
       "        Attack      Defense SpecialAttack SpecialDefense       Speed\n",
       "0   49 points!   49 points!    65 points!     65 points!  45 points!\n",
       "1   62 points!   63 points!    80 points!     80 points!  60 points!\n",
       "2   82 points!   83 points!   100 points!    100 points!  80 points!\n",
       "3  100 points!  123 points!   122 points!    120 points!  80 points!\n",
       "4   52 points!   43 points!    60 points!     50 points!  65 points!"
      ]
     },
     "execution_count": 12,
     "metadata": {},
     "output_type": "execute_result"
    }
   ],
   "source": [
    "df.loc[:, 'Attack' : 'Speed'].head()"
   ]
  },
  {
   "cell_type": "code",
   "execution_count": 13,
   "metadata": {},
   "outputs": [
    {
     "data": {
      "text/html": [
       "<div>\n",
       "<style scoped>\n",
       "    .dataframe tbody tr th:only-of-type {\n",
       "        vertical-align: middle;\n",
       "    }\n",
       "\n",
       "    .dataframe tbody tr th {\n",
       "        vertical-align: top;\n",
       "    }\n",
       "\n",
       "    .dataframe thead th {\n",
       "        text-align: right;\n",
       "    }\n",
       "</style>\n",
       "<table border=\"1\" class=\"dataframe\">\n",
       "  <thead>\n",
       "    <tr style=\"text-align: right;\">\n",
       "      <th></th>\n",
       "      <th>PokedexNumber</th>\n",
       "      <th>Name</th>\n",
       "      <th>Type</th>\n",
       "      <th>Total</th>\n",
       "      <th>HP</th>\n",
       "      <th>Attack</th>\n",
       "      <th>Defense</th>\n",
       "      <th>SpecialAttack</th>\n",
       "      <th>SpecialDefense</th>\n",
       "      <th>Speed</th>\n",
       "    </tr>\n",
       "  </thead>\n",
       "  <tbody>\n",
       "    <tr>\n",
       "      <th>0</th>\n",
       "      <td>1</td>\n",
       "      <td>Bulbasaur</td>\n",
       "      <td>GrassPoison</td>\n",
       "      <td>318</td>\n",
       "      <td>45</td>\n",
       "      <td>49</td>\n",
       "      <td>49</td>\n",
       "      <td>65</td>\n",
       "      <td>65</td>\n",
       "      <td>45</td>\n",
       "    </tr>\n",
       "    <tr>\n",
       "      <th>1</th>\n",
       "      <td>2</td>\n",
       "      <td>Ivysaur</td>\n",
       "      <td>GrassPoison</td>\n",
       "      <td>405</td>\n",
       "      <td>60</td>\n",
       "      <td>62</td>\n",
       "      <td>63</td>\n",
       "      <td>80</td>\n",
       "      <td>80</td>\n",
       "      <td>60</td>\n",
       "    </tr>\n",
       "    <tr>\n",
       "      <th>2</th>\n",
       "      <td>3</td>\n",
       "      <td>Venusaur</td>\n",
       "      <td>GrassPoison</td>\n",
       "      <td>525</td>\n",
       "      <td>80</td>\n",
       "      <td>82</td>\n",
       "      <td>83</td>\n",
       "      <td>100</td>\n",
       "      <td>100</td>\n",
       "      <td>80</td>\n",
       "    </tr>\n",
       "    <tr>\n",
       "      <th>3</th>\n",
       "      <td>3</td>\n",
       "      <td>VenusaurMega Venusaur</td>\n",
       "      <td>GrassPoison</td>\n",
       "      <td>625</td>\n",
       "      <td>80</td>\n",
       "      <td>100</td>\n",
       "      <td>123</td>\n",
       "      <td>122</td>\n",
       "      <td>120</td>\n",
       "      <td>80</td>\n",
       "    </tr>\n",
       "    <tr>\n",
       "      <th>4</th>\n",
       "      <td>4</td>\n",
       "      <td>Charmander</td>\n",
       "      <td>Fire</td>\n",
       "      <td>309</td>\n",
       "      <td>39</td>\n",
       "      <td>52</td>\n",
       "      <td>43</td>\n",
       "      <td>60</td>\n",
       "      <td>50</td>\n",
       "      <td>65</td>\n",
       "    </tr>\n",
       "  </tbody>\n",
       "</table>\n",
       "</div>"
      ],
      "text/plain": [
       "   PokedexNumber                   Name         Type  Total  HP  Attack  \\\n",
       "0              1              Bulbasaur  GrassPoison    318  45      49   \n",
       "1              2                Ivysaur  GrassPoison    405  60      62   \n",
       "2              3               Venusaur  GrassPoison    525  80      82   \n",
       "3              3  VenusaurMega Venusaur  GrassPoison    625  80     100   \n",
       "4              4             Charmander         Fire    309  39      52   \n",
       "\n",
       "   Defense  SpecialAttack  SpecialDefense  Speed  \n",
       "0       49             65              65     45  \n",
       "1       63             80              80     60  \n",
       "2       83            100             100     80  \n",
       "3      123            122             120     80  \n",
       "4       43             60              50     65  "
      ]
     },
     "execution_count": 13,
     "metadata": {},
     "output_type": "execute_result"
    }
   ],
   "source": [
    "df.loc[:, 'Attack' : 'Speed'] = df.loc[:, 'Attack' : 'Speed'].applymap(lambda x: int(x.replace(\" points!\", \"\")))\n",
    "df.head()"
   ]
  },
  {
   "cell_type": "markdown",
   "metadata": {},
   "source": [
    "### We can also map dictionaries!"
   ]
  },
  {
   "cell_type": "code",
   "execution_count": 14,
   "metadata": {},
   "outputs": [
    {
     "data": {
      "text/plain": [
       "Normal     61\n",
       "Water      59\n",
       "Psychic    38\n",
       "Grass      33\n",
       "Fire       28\n",
       "Name: Type, dtype: int64"
      ]
     },
     "execution_count": 14,
     "metadata": {},
     "output_type": "execute_result"
    }
   ],
   "source": [
    "# these are just some of our pokemon types, with their respective frequencies in the dataset\n",
    "df['Type'].value_counts().head()"
   ]
  },
  {
   "cell_type": "code",
   "execution_count": 15,
   "metadata": {},
   "outputs": [],
   "source": [
    "types = df['Type'].value_counts().index\n",
    "counts = df['Type'].value_counts().values\n",
    "\n",
    "# create a dictionary where the types are the keys, and the frequencies are the values\n",
    "test_dictionary = {poketype: count for poketype, count in zip(types, counts)}"
   ]
  },
  {
   "cell_type": "code",
   "execution_count": 16,
   "metadata": {},
   "outputs": [],
   "source": [
    "# create a new column where the values are the frequencies of that type\n",
    "df['Type Counts'] = df['Type'].map(test_dictionary)"
   ]
  },
  {
   "cell_type": "code",
   "execution_count": 17,
   "metadata": {},
   "outputs": [
    {
     "data": {
      "text/html": [
       "<div>\n",
       "<style scoped>\n",
       "    .dataframe tbody tr th:only-of-type {\n",
       "        vertical-align: middle;\n",
       "    }\n",
       "\n",
       "    .dataframe tbody tr th {\n",
       "        vertical-align: top;\n",
       "    }\n",
       "\n",
       "    .dataframe thead th {\n",
       "        text-align: right;\n",
       "    }\n",
       "</style>\n",
       "<table border=\"1\" class=\"dataframe\">\n",
       "  <thead>\n",
       "    <tr style=\"text-align: right;\">\n",
       "      <th></th>\n",
       "      <th>PokedexNumber</th>\n",
       "      <th>Name</th>\n",
       "      <th>Type</th>\n",
       "      <th>Total</th>\n",
       "      <th>HP</th>\n",
       "      <th>Attack</th>\n",
       "      <th>Defense</th>\n",
       "      <th>SpecialAttack</th>\n",
       "      <th>SpecialDefense</th>\n",
       "      <th>Speed</th>\n",
       "      <th>Type Counts</th>\n",
       "    </tr>\n",
       "  </thead>\n",
       "  <tbody>\n",
       "    <tr>\n",
       "      <th>0</th>\n",
       "      <td>1</td>\n",
       "      <td>Bulbasaur</td>\n",
       "      <td>GrassPoison</td>\n",
       "      <td>318</td>\n",
       "      <td>45</td>\n",
       "      <td>49</td>\n",
       "      <td>49</td>\n",
       "      <td>65</td>\n",
       "      <td>65</td>\n",
       "      <td>45</td>\n",
       "      <td>15</td>\n",
       "    </tr>\n",
       "    <tr>\n",
       "      <th>1</th>\n",
       "      <td>2</td>\n",
       "      <td>Ivysaur</td>\n",
       "      <td>GrassPoison</td>\n",
       "      <td>405</td>\n",
       "      <td>60</td>\n",
       "      <td>62</td>\n",
       "      <td>63</td>\n",
       "      <td>80</td>\n",
       "      <td>80</td>\n",
       "      <td>60</td>\n",
       "      <td>15</td>\n",
       "    </tr>\n",
       "    <tr>\n",
       "      <th>2</th>\n",
       "      <td>3</td>\n",
       "      <td>Venusaur</td>\n",
       "      <td>GrassPoison</td>\n",
       "      <td>525</td>\n",
       "      <td>80</td>\n",
       "      <td>82</td>\n",
       "      <td>83</td>\n",
       "      <td>100</td>\n",
       "      <td>100</td>\n",
       "      <td>80</td>\n",
       "      <td>15</td>\n",
       "    </tr>\n",
       "    <tr>\n",
       "      <th>3</th>\n",
       "      <td>3</td>\n",
       "      <td>VenusaurMega Venusaur</td>\n",
       "      <td>GrassPoison</td>\n",
       "      <td>625</td>\n",
       "      <td>80</td>\n",
       "      <td>100</td>\n",
       "      <td>123</td>\n",
       "      <td>122</td>\n",
       "      <td>120</td>\n",
       "      <td>80</td>\n",
       "      <td>15</td>\n",
       "    </tr>\n",
       "    <tr>\n",
       "      <th>4</th>\n",
       "      <td>4</td>\n",
       "      <td>Charmander</td>\n",
       "      <td>Fire</td>\n",
       "      <td>309</td>\n",
       "      <td>39</td>\n",
       "      <td>52</td>\n",
       "      <td>43</td>\n",
       "      <td>60</td>\n",
       "      <td>50</td>\n",
       "      <td>65</td>\n",
       "      <td>28</td>\n",
       "    </tr>\n",
       "  </tbody>\n",
       "</table>\n",
       "</div>"
      ],
      "text/plain": [
       "   PokedexNumber                   Name         Type  Total  HP  Attack  \\\n",
       "0              1              Bulbasaur  GrassPoison    318  45      49   \n",
       "1              2                Ivysaur  GrassPoison    405  60      62   \n",
       "2              3               Venusaur  GrassPoison    525  80      82   \n",
       "3              3  VenusaurMega Venusaur  GrassPoison    625  80     100   \n",
       "4              4             Charmander         Fire    309  39      52   \n",
       "\n",
       "   Defense  SpecialAttack  SpecialDefense  Speed  Type Counts  \n",
       "0       49             65              65     45           15  \n",
       "1       63             80              80     60           15  \n",
       "2       83            100             100     80           15  \n",
       "3      123            122             120     80           15  \n",
       "4       43             60              50     65           28  "
      ]
     },
     "execution_count": 17,
     "metadata": {},
     "output_type": "execute_result"
    }
   ],
   "source": [
    "df.head()"
   ]
  }
 ],
 "metadata": {
  "kernelspec": {
   "display_name": "Python 3",
   "language": "python",
   "name": "python3"
  },
  "language_info": {
   "codemirror_mode": {
    "name": "ipython",
    "version": 3
   },
   "file_extension": ".py",
   "mimetype": "text/x-python",
   "name": "python",
   "nbconvert_exporter": "python",
   "pygments_lexer": "ipython3",
   "version": "3.6.8"
  }
 },
 "nbformat": 4,
 "nbformat_minor": 2
}
