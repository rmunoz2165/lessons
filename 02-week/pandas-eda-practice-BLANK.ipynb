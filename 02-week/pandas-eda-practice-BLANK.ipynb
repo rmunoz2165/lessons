{
 "cells": [
  {
   "cell_type": "markdown",
   "metadata": {},
   "source": [
    "## Boston Housing EDA"
   ]
  },
  {
   "cell_type": "markdown",
   "metadata": {},
   "source": [
    "Imports - including our data!"
   ]
  },
  {
   "cell_type": "code",
   "execution_count": null,
   "metadata": {},
   "outputs": [],
   "source": [
    "import pandas as pd\n",
    "import numpy as np\n",
    "import matplotlib.pyplot as plt\n",
    "import seaborn as sns\n",
    "%matplotlib inline"
   ]
  },
  {
   "cell_type": "markdown",
   "metadata": {},
   "source": [
    "Import the data"
   ]
  },
  {
   "cell_type": "code",
   "execution_count": null,
   "metadata": {},
   "outputs": [],
   "source": []
  },
  {
   "cell_type": "markdown",
   "metadata": {},
   "source": [
    "**Data Dictionary**\n",
    "\n",
    "| Data Field  | Description  |  Data Type |\n",
    "|---|---|---|\n",
    "| CRIM  | per capita crime rate by town  | float64  |\n",
    "| ZN  | proportion of residential land zoned for lots over 25,000 sq.ft.  | float64  |\n",
    "| INDUS  | proportion of non-retail business acres per town  |  float64 |\n",
    "|  CHAS | Charles River dummy variable (= 1 if tract bounds river; 0 otherwise)  |  float64 |\n",
    "|  NOX | nitric oxides concentration (parts per 10 million)  | float64  |\n",
    "|  RM |  average number of rooms per dwelling |  float64 |\n",
    "|  AGE | proportion of owner-occupied units built prior to 1940  |  float64 |\n",
    "|  DIS | weighted distances to five Boston employment centres  |  float64 |\n",
    "| RAD  |  index of accessibility to radial highways | float64  |\n",
    "| TAX  | full-value property-tax rate per 10,000 dollars  | float64  |\n",
    "| PTRATIO  | pupil-teacher ratio by town  | float64  |\n",
    "| LSTAT  | percent lower status of the population  | object  |\n",
    "| MEDV  |  Median value of owner-occupied homes in 1000s of dollars |  object |"
   ]
  },
  {
   "cell_type": "markdown",
   "metadata": {},
   "source": [
    "Change the column names to lowercase"
   ]
  },
  {
   "cell_type": "code",
   "execution_count": null,
   "metadata": {},
   "outputs": [],
   "source": []
  },
  {
   "cell_type": "markdown",
   "metadata": {},
   "source": [
    "Do you want to change any other column names?"
   ]
  },
  {
   "cell_type": "code",
   "execution_count": null,
   "metadata": {},
   "outputs": [],
   "source": []
  },
  {
   "cell_type": "markdown",
   "metadata": {},
   "source": [
    "What are the datatypes for these columns?"
   ]
  },
  {
   "cell_type": "code",
   "execution_count": null,
   "metadata": {
    "scrolled": false
   },
   "outputs": [],
   "source": []
  },
  {
   "cell_type": "markdown",
   "metadata": {},
   "source": [
    "Any null values?"
   ]
  },
  {
   "cell_type": "code",
   "execution_count": null,
   "metadata": {},
   "outputs": [],
   "source": []
  },
  {
   "cell_type": "markdown",
   "metadata": {},
   "source": [
    "Fix the silly columns using map or apply lambda functions"
   ]
  },
  {
   "cell_type": "code",
   "execution_count": null,
   "metadata": {},
   "outputs": [],
   "source": []
  },
  {
   "cell_type": "markdown",
   "metadata": {},
   "source": [
    "Convert median price to true thousands"
   ]
  },
  {
   "cell_type": "code",
   "execution_count": null,
   "metadata": {},
   "outputs": [],
   "source": []
  },
  {
   "cell_type": "markdown",
   "metadata": {},
   "source": [
    "Okay, now let's print some summary statistics of our data."
   ]
  },
  {
   "cell_type": "code",
   "execution_count": null,
   "metadata": {},
   "outputs": [],
   "source": []
  },
  {
   "cell_type": "markdown",
   "metadata": {},
   "source": [
    "Let's visualize our data, since it's all quantitative."
   ]
  },
  {
   "cell_type": "code",
   "execution_count": null,
   "metadata": {},
   "outputs": [],
   "source": [
    "def plt_subplots(df, columns, nrows, ncols):\n",
    "    nrows = int(np.ceil((len(columns))/2))\n",
    "    fig, ax = plt.subplots(nrows=nrows, ncols=ncols, figsize = (12, 2.5 * nrows))\n",
    "    plt.style.use('bmh')\n",
    "    plt.tight_layout(pad=3)\n",
    "    \n",
    "    ax = ax.ravel()\n",
    "    for i, col in enumerate(columns):\n",
    "        \n",
    "        if i % 2 == 0:\n",
    "            color = 'blue'\n",
    "            alpha = 0.7\n",
    "        else:\n",
    "            color = 'black'\n",
    "            alpha = 0.8\n",
    "\n",
    "        ax[i].hist(df[col], color=color, alpha=alpha)\n",
    "        ax[i].set_title(col)\n",
    "        ax[i].set_ylabel('Frequency')\n",
    "        ax[i].set_xlabel('')\n",
    "        ax[i].axvline(df[col].mean(), color='red', linewidth=2)"
   ]
  },
  {
   "cell_type": "code",
   "execution_count": null,
   "metadata": {},
   "outputs": [],
   "source": [
    "# call your plotting function here"
   ]
  },
  {
   "cell_type": "markdown",
   "metadata": {},
   "source": [
    "Understanding the subplots/ matplot objects"
   ]
  },
  {
   "cell_type": "code",
   "execution_count": null,
   "metadata": {},
   "outputs": [],
   "source": [
    "# update figure size and the numbers below will be different! I think it's number of pixels\n",
    "fig = plt.figure(figsize=(12, 12))"
   ]
  },
  {
   "cell_type": "code",
   "execution_count": null,
   "metadata": {},
   "outputs": [],
   "source": [
    "# see how the output changes?\n",
    "plt.subplots(3, 3, figsize=(6, 6))"
   ]
  },
  {
   "cell_type": "code",
   "execution_count": null,
   "metadata": {},
   "outputs": [],
   "source": [
    "# let's unpack it!\n",
    "fig, ax = plt.subplots(3, 3, figsize=(6, 6))\n",
    "fig.tight_layout(pad = 1)"
   ]
  },
  {
   "cell_type": "code",
   "execution_count": null,
   "metadata": {},
   "outputs": [],
   "source": [
    "# how do we index ax?\n",
    "ax"
   ]
  },
  {
   "cell_type": "code",
   "execution_count": null,
   "metadata": {},
   "outputs": [],
   "source": [
    "ax[1][2]"
   ]
  },
  {
   "cell_type": "code",
   "execution_count": null,
   "metadata": {},
   "outputs": [],
   "source": [
    "# that didn't work\n",
    "ax[8]"
   ]
  },
  {
   "cell_type": "code",
   "execution_count": null,
   "metadata": {},
   "outputs": [],
   "source": [
    "# but if we ax.ravel()\n",
    "ax = ax.ravel()\n",
    "ax[8]"
   ]
  },
  {
   "cell_type": "code",
   "execution_count": null,
   "metadata": {},
   "outputs": [],
   "source": []
  },
  {
   "cell_type": "markdown",
   "metadata": {},
   "source": [
    "How do our variables correlate? Sort the values as they correlate with the median price"
   ]
  },
  {
   "cell_type": "code",
   "execution_count": null,
   "metadata": {},
   "outputs": [],
   "source": []
  },
  {
   "cell_type": "code",
   "execution_count": null,
   "metadata": {},
   "outputs": [],
   "source": []
  },
  {
   "cell_type": "markdown",
   "metadata": {},
   "source": [
    "How do we visualize correlation?"
   ]
  },
  {
   "cell_type": "markdown",
   "metadata": {},
   "source": [
    "**Type answer here:** "
   ]
  },
  {
   "cell_type": "markdown",
   "metadata": {},
   "source": [
    "Is there an easier way to make plots? Try with seaborn!"
   ]
  },
  {
   "cell_type": "code",
   "execution_count": null,
   "metadata": {},
   "outputs": [],
   "source": []
  }
 ],
 "metadata": {
  "kernelspec": {
   "display_name": "Python 3",
   "language": "python",
   "name": "python3"
  },
  "language_info": {
   "codemirror_mode": {
    "name": "ipython",
    "version": 3
   },
   "file_extension": ".py",
   "mimetype": "text/x-python",
   "name": "python",
   "nbconvert_exporter": "python",
   "pygments_lexer": "ipython3",
   "version": "3.6.8"
  }
 },
 "nbformat": 4,
 "nbformat_minor": 2
}
