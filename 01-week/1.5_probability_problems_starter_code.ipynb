{
 "cells": [
  {
   "cell_type": "markdown",
   "metadata": {},
   "source": [
    "## Probability Problems\n",
    "\n",
    "If we want to find the probability of some event $A$, it is common to ask \"How many times would $A$ occur in a theoretically infinite number of experiments?\" Written out mathematically, this is:\n",
    "\n",
    "$$\n",
    "P(A) = \\lim_{n \\rightarrow \\infty} \\frac{\\text{number of times A occurs}}{n}\n",
    "$$\n",
    "\n",
    "In many cases, we can find probabilities exactly by hand... but that quickly gets complicated. Instead, let's *estimate* $P(A)$ by leveraging Python to run some large number of trials and seeing how frequently $A$ occurs.\n",
    "\n",
    "For example, if I am rolling one die and my event $A$ is rolling a 6, I want to use Python to \"roll my die\" many times and count how frequently I roll a 6 compared to how many times I rolled my die.\n",
    "\n",
    "Mathematically, we are estimating the probability of $A$ as:\n",
    "\n",
    "$$\n",
    "P(A) \\approx \\frac{\\text{number of times A occurs}}{n}\n",
    "$$\n",
    "\n",
    "If we \"run our experiment\" for some large number of times $n$, then our estimated probability should be pretty close to the true probability!"
   ]
  },
  {
   "cell_type": "code",
   "execution_count": null,
   "metadata": {},
   "outputs": [],
   "source": [
    "import numpy as np"
   ]
  },
  {
   "cell_type": "markdown",
   "metadata": {},
   "source": [
    "### Problem 1: Suppose I roll one die. What is the probability of rolling an odd number?"
   ]
  },
  {
   "cell_type": "markdown",
   "metadata": {},
   "source": [
    "In this case, I want to estimate $P(A)$, where $A$ is rolling an odd number."
   ]
  },
  {
   "cell_type": "code",
   "execution_count": null,
   "metadata": {},
   "outputs": [],
   "source": [
    "# randomly generate one integer between 1 and 6"
   ]
  },
  {
   "cell_type": "code",
   "execution_count": null,
   "metadata": {},
   "outputs": [],
   "source": [
    "# set a seed so we can reproduce our results!"
   ]
  },
  {
   "cell_type": "code",
   "execution_count": null,
   "metadata": {},
   "outputs": [],
   "source": []
  },
  {
   "cell_type": "code",
   "execution_count": null,
   "metadata": {},
   "outputs": [],
   "source": []
  },
  {
   "cell_type": "code",
   "execution_count": null,
   "metadata": {},
   "outputs": [],
   "source": []
  },
  {
   "cell_type": "code",
   "execution_count": null,
   "metadata": {},
   "outputs": [],
   "source": []
  },
  {
   "cell_type": "code",
   "execution_count": null,
   "metadata": {},
   "outputs": [],
   "source": []
  },
  {
   "cell_type": "code",
   "execution_count": null,
   "metadata": {},
   "outputs": [],
   "source": []
  },
  {
   "cell_type": "code",
   "execution_count": null,
   "metadata": {},
   "outputs": [],
   "source": []
  },
  {
   "cell_type": "markdown",
   "metadata": {},
   "source": [
    "### Problem 2: Suppose I roll two dice. What is the probability that their sum is an odd number?"
   ]
  },
  {
   "cell_type": "code",
   "execution_count": null,
   "metadata": {},
   "outputs": [],
   "source": []
  },
  {
   "cell_type": "code",
   "execution_count": null,
   "metadata": {},
   "outputs": [],
   "source": []
  },
  {
   "cell_type": "code",
   "execution_count": null,
   "metadata": {},
   "outputs": [],
   "source": []
  },
  {
   "cell_type": "code",
   "execution_count": null,
   "metadata": {},
   "outputs": [],
   "source": []
  },
  {
   "cell_type": "markdown",
   "metadata": {},
   "source": [
    "### Problem 3: Suppose I flip three coins. What is the probability that I flip all heads or all tails?"
   ]
  },
  {
   "cell_type": "code",
   "execution_count": null,
   "metadata": {},
   "outputs": [],
   "source": []
  },
  {
   "cell_type": "code",
   "execution_count": null,
   "metadata": {},
   "outputs": [],
   "source": []
  },
  {
   "cell_type": "code",
   "execution_count": null,
   "metadata": {},
   "outputs": [],
   "source": []
  },
  {
   "cell_type": "markdown",
   "metadata": {},
   "source": [
    "### Problem 4: Suppose I flip one coin. If I flip heads, I roll one die. If I flip tails, I roll two dice and sum their values. What is the probability that my roll values sum to greater than 8?"
   ]
  },
  {
   "cell_type": "code",
   "execution_count": null,
   "metadata": {},
   "outputs": [],
   "source": []
  },
  {
   "cell_type": "code",
   "execution_count": null,
   "metadata": {},
   "outputs": [],
   "source": []
  },
  {
   "cell_type": "code",
   "execution_count": null,
   "metadata": {},
   "outputs": [],
   "source": [
    " # our probability fluctuates every time we run a set of 10,000 experiments\n",
    " # run 100 sets of the 10,000 experiments\n",
    " # get a list of 100 estimated probabilities"
   ]
  },
  {
   "cell_type": "code",
   "execution_count": null,
   "metadata": {},
   "outputs": [],
   "source": [
    "np.mean(results) # take the average probability of our 100 different sets of 10,000 experiments"
   ]
  },
  {
   "cell_type": "markdown",
   "metadata": {},
   "source": [
    "Note: If you get a bunch of trailing zeroes in the above answer, this is an issue of [floating point arithmetic](https://en.wikipedia.org/wiki/Floating-point_arithmetic)."
   ]
  },
  {
   "cell_type": "markdown",
   "metadata": {},
   "source": [
    "### Problem 5: I flip my coin until I flip heads. I count up the number of coins I flipped and roll that many dice. What is the probability that the average roll will be between 3 and 4 (inclusive)?\n",
    "- Example 1: If I flip heads on my first coin flip, I roll one die and stop.\n",
    "- Example 2: If I flip tails on my first coin flip and heads on my second, I will roll two dice and average their values.\n",
    "- Example 3: If I flip tails on my first two coin flips and heads on my third, I will roll three dice and average their values."
   ]
  },
  {
   "cell_type": "code",
   "execution_count": null,
   "metadata": {},
   "outputs": [],
   "source": []
  },
  {
   "cell_type": "code",
   "execution_count": null,
   "metadata": {},
   "outputs": [],
   "source": []
  },
  {
   "cell_type": "markdown",
   "metadata": {},
   "source": [
    "---\n",
    "\n",
    "## Extra Practice Problems (not required!)"
   ]
  },
  {
   "cell_type": "markdown",
   "metadata": {},
   "source": [
    "### Problem 6: Repeat problem 5, but find the probability that the average roll will be between 3 and 4, *exclusive*. (That is, we are not including values of 3 or 4 as \"successes,\" but only the numbers in between them.) \n",
    "- Before running this in code, do you think this will have a large impact on the outcome? Why or why not?"
   ]
  },
  {
   "cell_type": "code",
   "execution_count": null,
   "metadata": {},
   "outputs": [],
   "source": []
  },
  {
   "cell_type": "markdown",
   "metadata": {},
   "source": [
    "### Problem 7: Repeat problem 4, but make the probability of flipping heads 20%.\n",
    "- Hint: You could use `np.random.randint(1,11)` and using values of 1 and 2 as \"heads\" and values of 3 through 10 as \"tails.\" Alternatively, you could use [`np.random.choice`](https://docs.scipy.org/doc/numpy-1.15.0/reference/generated/numpy.random.choice.html)."
   ]
  },
  {
   "cell_type": "code",
   "execution_count": null,
   "metadata": {},
   "outputs": [],
   "source": []
  },
  {
   "cell_type": "markdown",
   "metadata": {},
   "source": [
    "### Problem 8: Repeat problem 7, but build your function out to accept *any* valid probability of flipping heads. (i.e. a user can input 1%, 10%, 35%, 99%, and so on).\n",
    "- Hint: You'll get stuck in an infinite loop if your probability of flipping heads is 0%!"
   ]
  },
  {
   "cell_type": "code",
   "execution_count": null,
   "metadata": {},
   "outputs": [],
   "source": []
  },
  {
   "cell_type": "markdown",
   "metadata": {},
   "source": [
    "### Problem 9: Two players are playing a game. Player A goes first and flips a coin. If the coin is heads, player A wins. If the coin is tails, player B then flips a coin. If the coin is heads, player B wins. Otherwise, the coin goes back to player A. They continue flipping until one person has flipped heads. If the coin is fair, what is the probability of player A winning?\n",
    "\n",
    "(This problem is taken from [_Statistical Inference_ by Casella and Berger](https://fsalamri.files.wordpress.com/2015/02/casella_berger_statistical_inference1.pdf).)"
   ]
  },
  {
   "cell_type": "code",
   "execution_count": null,
   "metadata": {},
   "outputs": [],
   "source": []
  },
  {
   "cell_type": "markdown",
   "metadata": {},
   "source": [
    "### Problem 10: Repeat problem 9, but adapt your function to accept another argument, $p$, where $p$ is the probability of flipping heads.\n",
    "\n",
    "(This problem is adapted from [_Statistical Inference_ by Casella and Berger](https://fsalamri.files.wordpress.com/2015/02/casella_berger_statistical_inference1.pdf).)"
   ]
  },
  {
   "cell_type": "code",
   "execution_count": null,
   "metadata": {},
   "outputs": [],
   "source": []
  },
  {
   "cell_type": "markdown",
   "metadata": {},
   "source": [
    "### Interview Problem *(advanced)*: Suppose I have a stick of length 1. I randomly break this stick in two places. What is the probability that the three pieces can form a triangle? (Note that a triangle can be formed if and only if the length of each side is smaller than the sum of the other two sides.)\n",
    "- Hint: You may want to use [`np.random.uniform`](https://docs.scipy.org/doc/numpy/reference/generated/numpy.random.uniform.html) to pick a random place to break your stick."
   ]
  },
  {
   "cell_type": "code",
   "execution_count": null,
   "metadata": {},
   "outputs": [],
   "source": []
  }
 ],
 "metadata": {
  "kernelspec": {
   "display_name": "Python 3",
   "language": "python",
   "name": "python3"
  },
  "language_info": {
   "codemirror_mode": {
    "name": "ipython",
    "version": 3
   },
   "file_extension": ".py",
   "mimetype": "text/x-python",
   "name": "python",
   "nbconvert_exporter": "python",
   "pygments_lexer": "ipython3",
   "version": "3.7.0"
  }
 },
 "nbformat": 4,
 "nbformat_minor": 2
}
